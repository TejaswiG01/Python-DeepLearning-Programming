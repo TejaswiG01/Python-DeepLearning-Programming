{
  "nbformat": 4,
  "nbformat_minor": 0,
  "metadata": {
    "colab": {
      "name": "DL_Icp3.ipynb",
      "provenance": []
    },
    "kernelspec": {
      "name": "python3",
      "display_name": "Python 3"
    }
  },
  "cells": [
    {
      "cell_type": "code",
      "metadata": {
        "id": "0LHYRja3hPWX",
        "colab_type": "code",
        "colab": {
          "base_uri": "https://localhost:8080/",
          "height": 347
        },
        "outputId": "7c23565d-b8a0-477b-eee4-e855ebe3a44c"
      },
      "source": [
        "from keras.models import Sequential\n",
        "from keras import layers\n",
        "from keras.preprocessing.text import Tokenizer\n",
        "from keras.preprocessing.sequence import pad_sequences\n",
        "import pandas as pd\n",
        "from sklearn import preprocessing\n",
        "from sklearn.model_selection import train_test_split\n",
        "import numpy as np\n",
        "\n",
        "\n",
        "df = pd.read_csv('imdb_master.csv', encoding='latin-1')\n",
        "print(df.head())\n",
        "sentences = df['review'].values\n",
        "y = df['label'].values\n",
        "\n",
        "\n",
        "#tokenizing data\n",
        "tokenizer = Tokenizer(num_words=2000)\n",
        "tokenizer.fit_on_texts(sentences)\n",
        "#getting the vocabulary of data\n",
        "sentences = tokenizer.texts_to_matrix(sentences)\n",
        "\n",
        "le = preprocessing.LabelEncoder()\n",
        "y = le.fit_transform(y)\n",
        "X_train, X_test, y_train, y_test = train_test_split(sentences, y, test_size=0.25, random_state=1000)\n",
        "input_dim=np.prod(X_train.shape[1:]) # defining input_dim\n",
        "\n",
        "# Number of features\n",
        "# print(input_dim)\n",
        "model = Sequential()\n",
        "model.add(layers.Dense(300, input_dim= input_dim, activation='relu'))\n",
        "model.add(layers.Dense(3, activation='softmax')) #change no. of neurons to three and activation function as softmax \n",
        "                                                 #for output layer\n",
        "model.compile(loss='sparse_categorical_crossentropy',optimizer='adam',metrics=['acc'])\n",
        "history=model.fit(X_train,y_train, epochs=5, verbose=True, validation_data=(X_test,y_test), batch_size=256)"
      ],
      "execution_count": 22,
      "outputs": [
        {
          "output_type": "stream",
          "text": [
            "   Unnamed: 0  type  ... label         file\n",
            "0           0  test  ...   neg      0_2.txt\n",
            "1           1  test  ...   neg  10000_4.txt\n",
            "2           2  test  ...   neg  10001_1.txt\n",
            "3           3  test  ...   neg  10002_3.txt\n",
            "4           4  test  ...   neg  10003_3.txt\n",
            "\n",
            "[5 rows x 5 columns]\n",
            "Train on 75000 samples, validate on 25000 samples\n",
            "Epoch 1/5\n",
            "75000/75000 [==============================] - 7s 92us/step - loss: 0.8793 - acc: 0.5050 - val_loss: 0.8436 - val_acc: 0.5123\n",
            "Epoch 2/5\n",
            "75000/75000 [==============================] - 7s 90us/step - loss: 0.7904 - acc: 0.5787 - val_loss: 0.8485 - val_acc: 0.5195\n",
            "Epoch 3/5\n",
            "75000/75000 [==============================] - 7s 90us/step - loss: 0.6863 - acc: 0.6790 - val_loss: 0.8740 - val_acc: 0.5130\n",
            "Epoch 4/5\n",
            "75000/75000 [==============================] - 7s 90us/step - loss: 0.4980 - acc: 0.8129 - val_loss: 0.9496 - val_acc: 0.5058\n",
            "Epoch 5/5\n",
            "75000/75000 [==============================] - 7s 92us/step - loss: 0.2916 - acc: 0.9239 - val_loss: 1.0689 - val_acc: 0.5051\n"
          ],
          "name": "stdout"
        }
      ]
    },
    {
      "cell_type": "code",
      "metadata": {
        "id": "waVk4xYWSk7K",
        "colab_type": "code",
        "colab": {
          "base_uri": "https://localhost:8080/",
          "height": 52
        },
        "outputId": "e179fda7-a158-4096-c777-cb076d850802"
      },
      "source": [
        "[test_loss, test_acc] = model.evaluate(X_test,y_test)\n",
        "print(\"Evaluation result on Test Data : Loss = {}, accuracy = {}\".format(test_loss, test_acc))"
      ],
      "execution_count": 23,
      "outputs": [
        {
          "output_type": "stream",
          "text": [
            "25000/25000 [==============================] - 1s 57us/step\n",
            "Evaluation result on Test Data : Loss = 1.0689326537322998, accuracy = 0.5051199793815613\n"
          ],
          "name": "stdout"
        }
      ]
    },
    {
      "cell_type": "code",
      "metadata": {
        "id": "RPglnaNfmpEg",
        "colab_type": "code",
        "colab": {
          "base_uri": "https://localhost:8080/",
          "height": 295
        },
        "outputId": "f0cb18ec-079d-4c03-a0e3-5a9241c61e07"
      },
      "source": [
        "# plotting loss and accuracy using history obj\n",
        "import matplotlib.pyplot as plt\n",
        "plt.plot(history.history['acc'])\n",
        "plt.plot(history.history['val_acc'])\n",
        "plt.plot(history.history['loss'])\n",
        "plt.plot(history.history['val_loss'])\n",
        "plt.title('model accuracy')\n",
        "plt.ylabel('accuracy')\n",
        "plt.xlabel('epoch')\n",
        "plt.legend(['accuray', 'validation accuracy','loss','val_loss'], loc='upper left')\n",
        "plt.show()"
      ],
      "execution_count": 33,
      "outputs": [
        {
          "output_type": "display_data",
          "data": {
            "image/png": "[encoded data removed]",
            "text/plain": [
              "<Figure size 432x288 with 1 Axes>"
            ]
          },
          "metadata": {
            "tags": [],
            "needs_background": "light"
          }
        }
      ]
    },
    {
      "cell_type": "code",
      "metadata": {
        "id": "EVbMZTpKKGAb",
        "colab_type": "code",
        "colab": {
          "base_uri": "https://localhost:8080/",
          "height": 263
        },
        "outputId": "44d01084-7474-4a18-eafe-c318ed24d3a6"
      },
      "source": [
        "# Adding Embedding layer to the model \n",
        "from keras.layers import Embedding, Flatten\n",
        "from keras.preprocessing.sequence import pad_sequences\n",
        "\n",
        "sentences1 = df['review']\n",
        "\n",
        "max_review_len= max([len(s.split()) for s in sentences1])\n",
        "vocab_size= len(tokenizer.word_index)+1\n",
        "sentences1 = tokenizer.texts_to_sequences(sentences1)\n",
        "padded_docs= pad_sequences(sentences1,maxlen=max_review_len)\n",
        "le = preprocessing.LabelEncoder()\n",
        "y = le.fit_transform(y)\n",
        "X_train, X_test, y_train, y_test = train_test_split(padded_docs, y, test_size=0.25, random_state=1000)\n",
        "\n",
        "model1 = Sequential()\n",
        "model1.add(Embedding(vocab_size, 50, input_length=max_review_len))\n",
        "model1.add(Flatten())\n",
        "model1.add(layers.Dense(300, activation='relu',input_dim=max_review_len))\n",
        "model1.add(layers.Dense(3, activation='softmax'))\n",
        "model1.compile(loss='sparse_categorical_crossentropy',optimizer='adam',metrics=['acc'])\n",
        "history1=model1.fit(X_train,y_train, epochs=5, verbose=True, validation_data=(X_test,y_test), batch_size=256)"
      ],
      "execution_count": 24,
      "outputs": [
        {
          "output_type": "stream",
          "text": [
            "/usr/local/lib/python3.6/dist-packages/tensorflow/python/framework/indexed_slices.py:434: UserWarning: Converting sparse IndexedSlices to a dense Tensor of unknown shape. This may consume a large amount of memory.\n",
            "  \"Converting sparse IndexedSlices to a dense Tensor of unknown shape. \"\n"
          ],
          "name": "stderr"
        },
        {
          "output_type": "stream",
          "text": [
            "Train on 75000 samples, validate on 25000 samples\n",
            "Epoch 1/5\n",
            "75000/75000 [==============================] - 479s 6ms/step - loss: 0.9795 - acc: 0.4853 - val_loss: 0.8529 - val_acc: 0.5016\n",
            "Epoch 2/5\n",
            "75000/75000 [==============================] - 480s 6ms/step - loss: 0.7868 - acc: 0.5792 - val_loss: 0.8680 - val_acc: 0.4862\n",
            "Epoch 3/5\n",
            "75000/75000 [==============================] - 480s 6ms/step - loss: 0.6431 - acc: 0.6968 - val_loss: 0.9742 - val_acc: 0.4886\n",
            "Epoch 4/5\n",
            "75000/75000 [==============================] - 480s 6ms/step - loss: 0.4670 - acc: 0.8016 - val_loss: 1.2127 - val_acc: 0.4837\n",
            "Epoch 5/5\n",
            "75000/75000 [==============================] - 481s 6ms/step - loss: 0.3175 - acc: 0.8788 - val_loss: 1.5212 - val_acc: 0.4776\n"
          ],
          "name": "stdout"
        }
      ]
    },
    {
      "cell_type": "code",
      "metadata": {
        "id": "3FA2_j-KUjOt",
        "colab_type": "code",
        "colab": {
          "base_uri": "https://localhost:8080/",
          "height": 295
        },
        "outputId": "60a1f925-7538-47f2-8ee0-8d465ca2b74f"
      },
      "source": [
        "# plotting loss and accuracy using history obj\n",
        "import matplotlib.pyplot as plt\n",
        "plt.plot(history1.history['acc'])\n",
        "plt.plot(history1.history['val_acc'])\n",
        "plt.plot(history1.history['loss'])\n",
        "plt.plot(history1.history['val_loss'])\n",
        "plt.title('model accuracy')\n",
        "plt.ylabel('accuracy')\n",
        "plt.xlabel('epoch')\n",
        "plt.legend(['accuray', 'validation accuracy','loss','val_loss'], loc='upper left')\n",
        "plt.show()"
      ],
      "execution_count": 27,
      "outputs": [
        {
          "output_type": "display_data",
          "data": {
            "image/png": "[encoded data removed]",
            "text/plain": [
              "<Figure size 432x288 with 1 Axes>"
            ]
          },
          "metadata": {
            "tags": [],
            "needs_background": "light"
          }
        }
      ]
    },
    {
      "cell_type": "code",
      "metadata": {
        "id": "pIMLnWa3TCW3",
        "colab_type": "code",
        "colab": {
          "base_uri": "https://localhost:8080/",
          "height": 297
        },
        "outputId": "593603a2-80ad-437b-ebef-ea112f993ca3"
      },
      "source": [
        "# Applying the same for 20news data \n",
        "from sklearn.datasets import fetch_20newsgroups\n",
        "newsgroups_train = fetch_20newsgroups(subset='train', shuffle=True)\n",
        "sentences2 = newsgroups_train.data\n",
        "y = newsgroups_train.target\n",
        "\n",
        "max_review_len= max([len(s.split()) for s in sentences2])\n",
        "vocab_size= len(tokenizer.word_index)+1\n",
        "sentences2 = tokenizer.texts_to_sequences(sentences2)\n",
        "padded_docs= pad_sequences(sentences2,maxlen=max_review_len)\n",
        "le = preprocessing.LabelEncoder()\n",
        "y = le.fit_transform(y)\n",
        "X_train, X_test, y_train, y_test = train_test_split(padded_docs, y, test_size=0.25, random_state=1000)\n",
        "\n",
        "model2 = Sequential()\n",
        "model2.add(Embedding(vocab_size, 50, input_length=max_review_len))\n",
        "model2.add(Flatten())\n",
        "model2.add(layers.Dense(300, activation='relu',input_dim=max_review_len))\n",
        "model2.add(layers.Dense(20, activation='softmax'))\n",
        "model2.compile(loss='sparse_categorical_crossentropy',optimizer='adam',metrics=['acc'])\n",
        "history2=model2.fit(X_train,y_train, epochs=5, verbose=True, validation_data=(X_test,y_test), batch_size=256)"
      ],
      "execution_count": 30,
      "outputs": [
        {
          "output_type": "stream",
          "text": [
            "Downloading 20news dataset. This may take a few minutes.\n",
            "Downloading dataset from https://ndownloader.figshare.com/files/5975967 (14 MB)\n",
            "/usr/local/lib/python3.6/dist-packages/tensorflow/python/framework/indexed_slices.py:434: UserWarning: Converting sparse IndexedSlices to a dense Tensor of unknown shape. This may consume a large amount of memory.\n",
            "  \"Converting sparse IndexedSlices to a dense Tensor of unknown shape. \"\n"
          ],
          "name": "stderr"
        },
        {
          "output_type": "stream",
          "text": [
            "Train on 8485 samples, validate on 2829 samples\n",
            "Epoch 1/5\n",
            "8485/8485 [==============================] - 305s 36ms/step - loss: 8.4235 - acc: 0.0510 - val_loss: 3.1278 - val_acc: 0.0407\n",
            "Epoch 2/5\n",
            "8485/8485 [==============================] - 314s 37ms/step - loss: 2.9925 - acc: 0.0651 - val_loss: 2.9747 - val_acc: 0.0675\n",
            "Epoch 3/5\n",
            "8485/8485 [==============================] - 312s 37ms/step - loss: 2.9246 - acc: 0.1078 - val_loss: 2.9319 - val_acc: 0.0795\n",
            "Epoch 4/5\n",
            "8485/8485 [==============================] - 311s 37ms/step - loss: 2.8629 - acc: 0.1076 - val_loss: 2.8571 - val_acc: 0.0721\n",
            "Epoch 5/5\n",
            "8485/8485 [==============================] - 310s 37ms/step - loss: 2.6903 - acc: 0.1570 - val_loss: 2.6707 - val_acc: 0.1421\n"
          ],
          "name": "stdout"
        }
      ]
    },
    {
      "cell_type": "code",
      "metadata": {
        "id": "UCWr63WHplVA",
        "colab_type": "code",
        "colab": {
          "base_uri": "https://localhost:8080/",
          "height": 35
        },
        "outputId": "a7780e3d-b7bf-462d-f7af-503293b47b91"
      },
      "source": [
        "# predicting over the 4th sample data\n",
        "print(\"Actual Value:\",y_test[4],\"Predicted Value\",model2.predict_classes(X_test[[4],:]))"
      ],
      "execution_count": 36,
      "outputs": [
        {
          "output_type": "stream",
          "text": [
            "Actual Value: 4 Predicted Value [3]\n"
          ],
          "name": "stdout"
        }
      ]
    }
  ]
}