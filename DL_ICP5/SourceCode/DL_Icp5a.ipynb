{
  "nbformat": 4,
  "nbformat_minor": 0,
  "metadata": {
    "colab": {
      "name": "DL_Icp5a.ipynb",
      "provenance": []
    },
    "kernelspec": {
      "name": "python3",
      "display_name": "Python 3"
    },
    "accelerator": "GPU"
  },
  "cells": [
    {
      "cell_type": "code",
      "metadata": {
        "id": "fPxPm-xFHmzs",
        "colab_type": "code",
        "colab": {
          "base_uri": "https://localhost:8080/",
          "height": 644
        },
        "outputId": "bb9a5e98-b822-4a53-b697-d0932d31ad39"
      },
      "source": [
        "import pandas as pd # data processing, CSV file I/O (e.g. pd.read_csv)\n",
        "from keras.preprocessing.text import Tokenizer\n",
        "from keras.preprocessing.sequence import pad_sequences\n",
        "from keras.models import Sequential\n",
        "from keras.layers import Dense, Embedding, LSTM, SpatialDropout1D\n",
        "from matplotlib import pyplot\n",
        "from sklearn.model_selection import train_test_split\n",
        "from keras.utils.np_utils import to_categorical\n",
        "import re\n",
        "\n",
        "from sklearn.preprocessing import LabelEncoder\n",
        "\n",
        "data = pd.read_csv('Sentiment.csv')\n",
        "# Keeping only the neccessary columns\n",
        "data = data[['text','sentiment']]\n",
        "\n",
        "data['text'] = data['text'].apply(lambda x: x.lower())\n",
        "data['text'] = data['text'].apply((lambda x: re.sub('[^a-zA-Z0-9\\s]', '', x)))\n",
        "\n",
        "for idx, row in data.iterrows():\n",
        "    row[0] = row[0].replace('rt', ' ')\n",
        "\n",
        "max_fatures = 2000\n",
        "tokenizer = Tokenizer(num_words=max_fatures, split=' ')\n",
        "tokenizer.fit_on_texts(data['text'].values)\n",
        "X = tokenizer.texts_to_sequences(data['text'].values)\n",
        "\n",
        "X = pad_sequences(X)\n",
        "\n",
        "embed_dim = 128\n",
        "lstm_out = 196\n",
        "def createmodel():\n",
        "    model = Sequential()\n",
        "    model.add(Embedding(max_fatures, embed_dim,input_length = X.shape[1]))\n",
        "    model.add(LSTM(lstm_out, dropout=0.2, recurrent_dropout=0.2))\n",
        "    model.add(Dense(3,activation='softmax'))\n",
        "    model.compile(loss = 'categorical_crossentropy', optimizer='adam',metrics = ['accuracy'])\n",
        "    return model\n",
        "# print(model.summary())\n",
        "\n",
        "labelencoder = LabelEncoder()\n",
        "integer_encoded = labelencoder.fit_transform(data['sentiment'])\n",
        "y = to_categorical(integer_encoded)\n",
        "X_train, X_test, Y_train, Y_test = train_test_split(X,y, test_size = 0.33, random_state = 42)\n",
        "\n",
        "batch_size = 32\n",
        "model = createmodel()\n",
        "model.fit(X_train, Y_train, epochs = 15, batch_size=batch_size, verbose = 2)\n",
        "model.save('sentiment.h5')\n",
        "score,acc = model.evaluate(X_test,Y_test,verbose=2,batch_size=batch_size)\n",
        "print(score)\n",
        "print(acc)\n",
        "print(model.metrics_names)\n"
      ],
      "execution_count": 4,
      "outputs": [
        {
          "output_type": "stream",
          "text": [
            "/usr/local/lib/python3.6/dist-packages/tensorflow/python/framework/indexed_slices.py:434: UserWarning: Converting sparse IndexedSlices to a dense Tensor of unknown shape. This may consume a large amount of memory.\n",
            "  \"Converting sparse IndexedSlices to a dense Tensor of unknown shape. \"\n"
          ],
          "name": "stderr"
        },
        {
          "output_type": "stream",
          "text": [
            "Epoch 1/15\n",
            " - 29s - loss: 0.8294 - accuracy: 0.6440\n",
            "Epoch 2/15\n",
            " - 26s - loss: 0.6822 - accuracy: 0.7113\n",
            "Epoch 3/15\n",
            " - 27s - loss: 0.6219 - accuracy: 0.7387\n",
            "Epoch 4/15\n",
            " - 27s - loss: 0.5829 - accuracy: 0.7536\n",
            "Epoch 5/15\n",
            " - 27s - loss: 0.5378 - accuracy: 0.7807\n",
            "Epoch 6/15\n",
            " - 27s - loss: 0.5022 - accuracy: 0.7934\n",
            "Epoch 7/15\n",
            " - 26s - loss: 0.4654 - accuracy: 0.8115\n",
            "Epoch 8/15\n",
            " - 27s - loss: 0.4396 - accuracy: 0.8217\n",
            "Epoch 9/15\n",
            " - 27s - loss: 0.4088 - accuracy: 0.8375\n",
            "Epoch 10/15\n",
            " - 26s - loss: 0.3790 - accuracy: 0.8482\n",
            "Epoch 11/15\n",
            " - 26s - loss: 0.3613 - accuracy: 0.8504\n",
            "Epoch 12/15\n",
            " - 27s - loss: 0.3373 - accuracy: 0.8652\n",
            "Epoch 13/15\n",
            " - 27s - loss: 0.3151 - accuracy: 0.8757\n",
            "Epoch 14/15\n",
            " - 27s - loss: 0.3027 - accuracy: 0.8760\n",
            "Epoch 15/15\n",
            " - 27s - loss: 0.2897 - accuracy: 0.8821\n",
            "1.3964386600862688\n",
            "0.6515945792198181\n",
            "['loss', 'accuracy']\n"
          ],
          "name": "stdout"
        }
      ]
    },
    {
      "cell_type": "code",
      "metadata": {
        "id": "ByT7Dj7j8GLa",
        "colab_type": "code",
        "colab": {
          "base_uri": "https://localhost:8080/",
          "height": 176
        },
        "outputId": "0a1bf3a3-4fce-4658-c6ae-d2e00d475504"
      },
      "source": [
        "  \n",
        "from keras.models import load_model\n",
        "from keras_preprocessing.sequence import pad_sequences\n",
        "from keras_preprocessing.text import Tokenizer\n",
        "import numpy as np\n",
        "\n",
        "model = load_model('sentiment.h5')\n",
        "test_data = [\"A lot of good things are happening. We are respected again throughout the world, and that's a great thing.@realDonaldTrump\"]\n",
        "\n",
        "\n",
        "tokenizer = Tokenizer(split=' ')\n",
        "y=tokenizer.fit_on_texts(test_data)\n",
        "X = tokenizer.texts_to_sequences(test_data)\n",
        "print(X)\n",
        "\n",
        "max_len = 28\n",
        "X = pad_sequences(X, maxlen=max_len)\n",
        "print(X)\n",
        "\n",
        "class_names = ['Positive','Neutral','Negative']\n",
        "\n",
        "preds = model.predict(X)\n",
        "print(preds)\n",
        "classes = model.predict_classes(X)\n",
        "print(classes)\n",
        "print(class_names[classes[0]])"
      ],
      "execution_count": 5,
      "outputs": [
        {
          "output_type": "stream",
          "text": [
            "/usr/local/lib/python3.6/dist-packages/tensorflow/python/framework/indexed_slices.py:434: UserWarning: Converting sparse IndexedSlices to a dense Tensor of unknown shape. This may consume a large amount of memory.\n",
            "  \"Converting sparse IndexedSlices to a dense Tensor of unknown shape. \"\n"
          ],
          "name": "stderr"
        },
        {
          "output_type": "stream",
          "text": [
            "[[1, 3, 4, 5, 6, 2, 7, 8, 2, 9, 10, 11, 12, 13, 14, 15, 1, 16, 17, 18]]\n",
            "[[ 0  0  0  0  0  0  0  0  1  3  4  5  6  2  7  8  2  9 10 11 12 13 14 15\n",
            "   1 16 17 18]]\n",
            "[[0.8443336  0.04547098 0.11019548]]\n",
            "[0]\n",
            "Positive\n"
          ],
          "name": "stdout"
        }
      ]
    },
    {
      "cell_type": "code",
      "metadata": {
        "id": "rf6bNrGk5TYe",
        "colab_type": "code",
        "colab": {
          "base_uri": "https://localhost:8080/",
          "height": 1000
        },
        "outputId": "17dd9c66-e004-4151-eb4b-be37fe7bf3a3"
      },
      "source": [
        "from keras.wrappers.scikit_learn import KerasClassifier\n",
        "\n",
        "model = KerasClassifier(build_fn=createmodel,verbose=2)\n",
        "batch_size= [10, 20, 40]\n",
        "epochs = [1, 2]\n",
        "param_grid= {'batch_size':batch_size, 'epochs':epochs}\n",
        "from sklearn.model_selection import GridSearchCV\n",
        "grid  = GridSearchCV(estimator=model, param_grid=param_grid)\n",
        "grid_result= grid.fit(X_train,Y_train)\n",
        "# summarize results\n",
        "print(\"Best: %f using %s\" % (grid_result.best_score_, grid_result.best_params_))"
      ],
      "execution_count": 6,
      "outputs": [
        {
          "output_type": "stream",
          "text": [
            "/usr/local/lib/python3.6/dist-packages/tensorflow/python/framework/indexed_slices.py:434: UserWarning: Converting sparse IndexedSlices to a dense Tensor of unknown shape. This may consume a large amount of memory.\n",
            "  \"Converting sparse IndexedSlices to a dense Tensor of unknown shape. \"\n"
          ],
          "name": "stderr"
        },
        {
          "output_type": "stream",
          "text": [
            "Epoch 1/1\n",
            " - 47s - loss: 0.8314 - accuracy: 0.6422\n",
            "Epoch 1/1\n",
            " - 48s - loss: 0.8300 - accuracy: 0.6419\n",
            "Epoch 1/1\n",
            " - 48s - loss: 0.8274 - accuracy: 0.6446\n",
            "Epoch 1/1\n",
            " - 47s - loss: 0.8297 - accuracy: 0.6426\n",
            "Epoch 1/1\n",
            " - 48s - loss: 0.8252 - accuracy: 0.6488\n",
            "Epoch 1/2\n",
            " - 47s - loss: 0.8352 - accuracy: 0.6438\n",
            "Epoch 2/2\n",
            " - 45s - loss: 0.6873 - accuracy: 0.7129\n",
            "Epoch 1/2\n",
            " - 47s - loss: 0.8254 - accuracy: 0.6470\n",
            "Epoch 2/2\n",
            " - 48s - loss: 0.6853 - accuracy: 0.7160\n",
            "Epoch 1/2\n",
            " - 48s - loss: 0.8332 - accuracy: 0.6394\n",
            "Epoch 2/2\n",
            " - 48s - loss: 0.6812 - accuracy: 0.7119\n",
            "Epoch 1/2\n",
            " - 46s - loss: 0.8346 - accuracy: 0.6413\n",
            "Epoch 2/2\n",
            " - 46s - loss: 0.6839 - accuracy: 0.7095\n",
            "Epoch 1/2\n",
            " - 46s - loss: 0.8286 - accuracy: 0.6457\n",
            "Epoch 2/2\n",
            " - 48s - loss: 0.6805 - accuracy: 0.7135\n",
            "Epoch 1/1\n",
            " - 25s - loss: 0.8396 - accuracy: 0.6412\n",
            "Epoch 1/1\n",
            " - 24s - loss: 0.8334 - accuracy: 0.6406\n",
            "Epoch 1/1\n",
            " - 25s - loss: 0.8354 - accuracy: 0.6381\n",
            "Epoch 1/1\n",
            " - 25s - loss: 0.8408 - accuracy: 0.6363\n",
            "Epoch 1/1\n",
            " - 25s - loss: 0.8318 - accuracy: 0.6377\n",
            "Epoch 1/2\n",
            " - 24s - loss: 0.8380 - accuracy: 0.6427\n",
            "Epoch 2/2\n",
            " - 24s - loss: 0.6878 - accuracy: 0.7089\n",
            "Epoch 1/2\n",
            " - 24s - loss: 0.8351 - accuracy: 0.6406\n",
            "Epoch 2/2\n",
            " - 23s - loss: 0.6954 - accuracy: 0.7070\n",
            "Epoch 1/2\n",
            " - 24s - loss: 0.8343 - accuracy: 0.6416\n",
            "Epoch 2/2\n",
            " - 26s - loss: 0.6862 - accuracy: 0.7101\n",
            "Epoch 1/2\n",
            " - 24s - loss: 0.8351 - accuracy: 0.6391\n",
            "Epoch 2/2\n",
            " - 24s - loss: 0.6837 - accuracy: 0.7091\n",
            "Epoch 1/2\n",
            " - 24s - loss: 0.8368 - accuracy: 0.6358\n",
            "Epoch 2/2\n",
            " - 23s - loss: 0.6878 - accuracy: 0.7060\n",
            "Epoch 1/1\n",
            " - 12s - loss: 0.8520 - accuracy: 0.6349\n",
            "Epoch 1/1\n",
            " - 12s - loss: 0.8472 - accuracy: 0.6414\n",
            "Epoch 1/1\n",
            " - 11s - loss: 0.8521 - accuracy: 0.6317\n",
            "Epoch 1/1\n",
            " - 12s - loss: 0.8524 - accuracy: 0.6369\n",
            "Epoch 1/1\n",
            " - 12s - loss: 0.8438 - accuracy: 0.6351\n",
            "Epoch 1/2\n",
            " - 12s - loss: 0.8531 - accuracy: 0.6328\n",
            "Epoch 2/2\n",
            " - 12s - loss: 0.6990 - accuracy: 0.6998\n",
            "Epoch 1/2\n",
            " - 12s - loss: 0.8477 - accuracy: 0.6328\n",
            "Epoch 2/2\n",
            " - 11s - loss: 0.7008 - accuracy: 0.7073\n",
            "Epoch 1/2\n",
            " - 12s - loss: 0.8485 - accuracy: 0.6338\n",
            "Epoch 2/2\n",
            " - 12s - loss: 0.6913 - accuracy: 0.7100\n",
            "Epoch 1/2\n",
            " - 12s - loss: 0.8519 - accuracy: 0.6317\n",
            "Epoch 2/2\n",
            " - 11s - loss: 0.6978 - accuracy: 0.6979\n",
            "Epoch 1/2\n",
            " - 12s - loss: 0.8466 - accuracy: 0.6348\n",
            "Epoch 2/2\n",
            " - 12s - loss: 0.6895 - accuracy: 0.7060\n",
            "Epoch 1/2\n",
            " - 29s - loss: 0.8244 - accuracy: 0.6483\n",
            "Epoch 2/2\n",
            " - 28s - loss: 0.6804 - accuracy: 0.7091\n",
            "Best: 0.682126 using {'batch_size': 20, 'epochs': 2}\n"
          ],
          "name": "stdout"
        }
      ]
    },
    {
      "cell_type": "code",
      "metadata": {
        "id": "iuI1Vkz3PlAb",
        "colab_type": "code",
        "colab": {}
      },
      "source": [
        ""
      ],
      "execution_count": null,
      "outputs": []
    }
  ]
}